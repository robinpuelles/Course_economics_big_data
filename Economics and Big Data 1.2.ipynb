{
 "cells": [
  {
   "cell_type": "code",
   "execution_count": 12,
   "metadata": {},
   "outputs": [],
   "source": [
    "import matplotlib\n",
    "import sklearn\n",
    "import pandas as pd\n",
    "import numpy as np\n",
    "import os\n",
    "import matplotlib.pyplot as plt"
   ]
  },
  {
   "cell_type": "markdown",
   "metadata": {},
   "source": [
    "# 1. Import data\n",
    "\n",
    "## Import target"
   ]
  },
  {
   "cell_type": "code",
   "execution_count": 13,
   "metadata": {},
   "outputs": [],
   "source": [
    "#Housing prices, France\n",
    "\n",
    "hp = pd.read_csv(\"https://api.db.nomics.world/v22/series/OECD/HOUSE_PRICES/Q.FRA.RHP.csv\",\n",
    "#                 index_col = 0\n",
    "                )\n",
    "hp['period'] = pd.to_datetime(hp[\"period\"])\n",
    "hp = hp.set_index('period')\n",
    "hp.columns = ['hp']"
   ]
  },
  {
   "cell_type": "code",
   "execution_count": 14,
   "metadata": {},
   "outputs": [],
   "source": [
    "# UI claims, USA\n",
    "\n",
    "    \n",
    "ui = pd.read_csv(\"https://api.db.nomics.world/v22/series/oppins/UI/contclaims_rate_combined.US.CONTCLAIMS_RATE_COMBINED.W.csv\",\n",
    "#                 index_col = 0\n",
    "                )\n",
    "ui['period'] = pd.to_datetime(ui[\"period\"])\n",
    "ui = ui.set_index('period')\n",
    "ui.columns = ['ui']"
   ]
  },
  {
   "cell_type": "code",
   "execution_count": 15,
   "metadata": {},
   "outputs": [
    {
     "data": {
      "text/html": [
       "<div>\n",
       "<style scoped>\n",
       "    .dataframe tbody tr th:only-of-type {\n",
       "        vertical-align: middle;\n",
       "    }\n",
       "\n",
       "    .dataframe tbody tr th {\n",
       "        vertical-align: top;\n",
       "    }\n",
       "\n",
       "    .dataframe thead th {\n",
       "        text-align: right;\n",
       "    }\n",
       "</style>\n",
       "<table border=\"1\" class=\"dataframe\">\n",
       "  <thead>\n",
       "    <tr style=\"text-align: right;\">\n",
       "      <th></th>\n",
       "      <th>hp</th>\n",
       "    </tr>\n",
       "    <tr>\n",
       "      <th>period</th>\n",
       "      <th></th>\n",
       "    </tr>\n",
       "  </thead>\n",
       "  <tbody>\n",
       "    <tr>\n",
       "      <th>1970-01-01</th>\n",
       "      <td>43.290342</td>\n",
       "    </tr>\n",
       "    <tr>\n",
       "      <th>1970-04-01</th>\n",
       "      <td>42.357540</td>\n",
       "    </tr>\n",
       "    <tr>\n",
       "      <th>1970-07-01</th>\n",
       "      <td>41.335530</td>\n",
       "    </tr>\n",
       "    <tr>\n",
       "      <th>1970-10-01</th>\n",
       "      <td>40.630317</td>\n",
       "    </tr>\n",
       "    <tr>\n",
       "      <th>1971-01-01</th>\n",
       "      <td>39.936271</td>\n",
       "    </tr>\n",
       "  </tbody>\n",
       "</table>\n",
       "</div>"
      ],
      "text/plain": [
       "                   hp\n",
       "period               \n",
       "1970-01-01  43.290342\n",
       "1970-04-01  42.357540\n",
       "1970-07-01  41.335530\n",
       "1970-10-01  40.630317\n",
       "1971-01-01  39.936271"
      ]
     },
     "execution_count": 15,
     "metadata": {},
     "output_type": "execute_result"
    }
   ],
   "source": [
    "hp.head()"
   ]
  },
  {
   "cell_type": "markdown",
   "metadata": {},
   "source": [
    "## Import Google Trends variables\n",
    "\n",
    "The Google Trends vars are already pre-treated as described in Woloszko (2020), the vars are in year-on-year log difference. "
   ]
  },
  {
   "cell_type": "code",
   "execution_count": 16,
   "metadata": {},
   "outputs": [],
   "source": [
    "# Google Trends, France\n",
    "gt_f = pd.read_csv(\"https://github.com/NicolasWoloszko/Course_economics_big_data/raw/main/data_fr.csv\")\n",
    "gt_f['date'] = pd.to_datetime(gt_f[\"date\"])\n",
    "gt_f = gt_f.set_index('date')"
   ]
  },
  {
   "cell_type": "code",
   "execution_count": 41,
   "metadata": {},
   "outputs": [
    {
     "data": {
      "text/plain": [
       "(65, 243)"
      ]
     },
     "execution_count": 41,
     "metadata": {},
     "output_type": "execute_result"
    }
   ],
   "source": [
    "gt_f.head()\n",
    "gt_f.shape"
   ]
  },
  {
   "cell_type": "code",
   "execution_count": 18,
   "metadata": {},
   "outputs": [],
   "source": [
    "gt_us = pd.read_csv(\"https://github.com/NicolasWoloszko/Course_economics_big_data/raw/main/data_us.csv\")\n",
    "gt_us['date'] = pd.to_datetime(gt_us[\"date\"])\n",
    "gt_us = gt_us.set_index('date')"
   ]
  },
  {
   "cell_type": "markdown",
   "metadata": {},
   "source": [
    "# 2. Create  data set for machine learning"
   ]
  },
  {
   "cell_type": "code",
   "execution_count": 56,
   "metadata": {},
   "outputs": [
    {
     "data": {
      "text/html": [
       "<div>\n",
       "<style scoped>\n",
       "    .dataframe tbody tr th:only-of-type {\n",
       "        vertical-align: middle;\n",
       "    }\n",
       "\n",
       "    .dataframe tbody tr th {\n",
       "        vertical-align: top;\n",
       "    }\n",
       "\n",
       "    .dataframe thead th {\n",
       "        text-align: right;\n",
       "    }\n",
       "</style>\n",
       "<table border=\"1\" class=\"dataframe\">\n",
       "  <thead>\n",
       "    <tr style=\"text-align: right;\">\n",
       "      <th></th>\n",
       "      <th>date</th>\n",
       "      <th>hp</th>\n",
       "    </tr>\n",
       "  </thead>\n",
       "  <tbody>\n",
       "    <tr>\n",
       "      <th>198</th>\n",
       "      <td>2019-07-01</td>\n",
       "      <td>0.024312</td>\n",
       "    </tr>\n",
       "    <tr>\n",
       "      <th>199</th>\n",
       "      <td>2019-10-01</td>\n",
       "      <td>0.029881</td>\n",
       "    </tr>\n",
       "    <tr>\n",
       "      <th>200</th>\n",
       "      <td>2020-01-01</td>\n",
       "      <td>0.040304</td>\n",
       "    </tr>\n",
       "    <tr>\n",
       "      <th>201</th>\n",
       "      <td>2020-04-01</td>\n",
       "      <td>0.048943</td>\n",
       "    </tr>\n",
       "    <tr>\n",
       "      <th>202</th>\n",
       "      <td>2020-07-01</td>\n",
       "      <td>0.046205</td>\n",
       "    </tr>\n",
       "  </tbody>\n",
       "</table>\n",
       "</div>"
      ],
      "text/plain": [
       "          date        hp\n",
       "198 2019-07-01  0.024312\n",
       "199 2019-10-01  0.029881\n",
       "200 2020-01-01  0.040304\n",
       "201 2020-04-01  0.048943\n",
       "202 2020-07-01  0.046205"
      ]
     },
     "execution_count": 56,
     "metadata": {},
     "output_type": "execute_result"
    }
   ],
   "source": [
    "# Do you thinkg you should use the house prices / UI claims in level, growth rate, delta...???\n",
    "# to do growth rate \n",
    "hp_yearly_growth = hp.pct_change(periods = 4)\n",
    "hp_yearly_growth.reset_index(level=0, inplace=True)\n",
    "#hp_yearly_growth.plot()\n",
    "hp_yearly_growth.columns = ['date', 'hp'] #did not manage with rename why ? \n",
    "hp_yearly_growth.tail()\n"
   ]
  },
  {
   "cell_type": "code",
   "execution_count": null,
   "metadata": {},
   "outputs": [],
   "source": []
  },
  {
   "cell_type": "code",
   "execution_count": 75,
   "metadata": {},
   "outputs": [
    {
     "data": {
      "text/html": [
       "<div>\n",
       "<style scoped>\n",
       "    .dataframe tbody tr th:only-of-type {\n",
       "        vertical-align: middle;\n",
       "    }\n",
       "\n",
       "    .dataframe tbody tr th {\n",
       "        vertical-align: top;\n",
       "    }\n",
       "\n",
       "    .dataframe thead th {\n",
       "        text-align: right;\n",
       "    }\n",
       "</style>\n",
       "<table border=\"1\" class=\"dataframe\">\n",
       "  <thead>\n",
       "    <tr style=\"text-align: right;\">\n",
       "      <th></th>\n",
       "      <th>date</th>\n",
       "      <th>Accounting &amp; Auditing</th>\n",
       "      <th>Acting &amp; Theater</th>\n",
       "      <th>Advertising &amp; Marketing</th>\n",
       "      <th>Aerospace &amp; Defense</th>\n",
       "      <th>Agricultural Equipment</th>\n",
       "      <th>Agriculture &amp; Forestry</th>\n",
       "      <th>Agrochemicals</th>\n",
       "      <th>Air Travel</th>\n",
       "      <th>Alcoholic Beverages</th>\n",
       "      <th>...</th>\n",
       "      <th>Public debt</th>\n",
       "      <th>Recession</th>\n",
       "      <th>Recruitement</th>\n",
       "      <th>Stimulus</th>\n",
       "      <th>Student loan</th>\n",
       "      <th>Temporary jobs</th>\n",
       "      <th>Unemployment</th>\n",
       "      <th>Unemployment benefits</th>\n",
       "      <th>Waiter</th>\n",
       "      <th>hp</th>\n",
       "    </tr>\n",
       "  </thead>\n",
       "  <tbody>\n",
       "    <tr>\n",
       "      <th>60</th>\n",
       "      <td>2020-01-01</td>\n",
       "      <td>-0.100553</td>\n",
       "      <td>-0.026423</td>\n",
       "      <td>0.014028</td>\n",
       "      <td>0.001069</td>\n",
       "      <td>0.019450</td>\n",
       "      <td>0.127414</td>\n",
       "      <td>0.070587</td>\n",
       "      <td>-0.152400</td>\n",
       "      <td>0.068660</td>\n",
       "      <td>...</td>\n",
       "      <td>0.329334</td>\n",
       "      <td>0.282700</td>\n",
       "      <td>0.409523</td>\n",
       "      <td>0.226911</td>\n",
       "      <td>0.337439</td>\n",
       "      <td>0.437425</td>\n",
       "      <td>0.356962</td>\n",
       "      <td>0.417100</td>\n",
       "      <td>0.400755</td>\n",
       "      <td>0.040304</td>\n",
       "    </tr>\n",
       "    <tr>\n",
       "      <th>61</th>\n",
       "      <td>2020-04-01</td>\n",
       "      <td>0.036639</td>\n",
       "      <td>-0.011140</td>\n",
       "      <td>-0.026215</td>\n",
       "      <td>0.204362</td>\n",
       "      <td>0.082274</td>\n",
       "      <td>0.231284</td>\n",
       "      <td>0.081251</td>\n",
       "      <td>-0.724568</td>\n",
       "      <td>-0.016592</td>\n",
       "      <td>...</td>\n",
       "      <td>0.345087</td>\n",
       "      <td>0.339757</td>\n",
       "      <td>0.410009</td>\n",
       "      <td>0.389940</td>\n",
       "      <td>0.380514</td>\n",
       "      <td>0.430642</td>\n",
       "      <td>0.389715</td>\n",
       "      <td>0.420427</td>\n",
       "      <td>0.384044</td>\n",
       "      <td>0.048943</td>\n",
       "    </tr>\n",
       "    <tr>\n",
       "      <th>62</th>\n",
       "      <td>2020-07-01</td>\n",
       "      <td>0.106314</td>\n",
       "      <td>-0.156118</td>\n",
       "      <td>-0.026860</td>\n",
       "      <td>-0.056146</td>\n",
       "      <td>-0.005356</td>\n",
       "      <td>0.038348</td>\n",
       "      <td>-0.066048</td>\n",
       "      <td>-0.569636</td>\n",
       "      <td>0.055509</td>\n",
       "      <td>...</td>\n",
       "      <td>0.289461</td>\n",
       "      <td>0.197416</td>\n",
       "      <td>0.426886</td>\n",
       "      <td>0.375309</td>\n",
       "      <td>0.402451</td>\n",
       "      <td>0.443208</td>\n",
       "      <td>0.317629</td>\n",
       "      <td>0.409238</td>\n",
       "      <td>0.401961</td>\n",
       "      <td>0.046205</td>\n",
       "    </tr>\n",
       "    <tr>\n",
       "      <th>63</th>\n",
       "      <td>2020-10-01</td>\n",
       "      <td>0.049505</td>\n",
       "      <td>-0.163163</td>\n",
       "      <td>-0.015447</td>\n",
       "      <td>-0.034418</td>\n",
       "      <td>0.021043</td>\n",
       "      <td>0.054547</td>\n",
       "      <td>-0.133421</td>\n",
       "      <td>-0.711478</td>\n",
       "      <td>-0.051672</td>\n",
       "      <td>...</td>\n",
       "      <td>0.330244</td>\n",
       "      <td>0.168823</td>\n",
       "      <td>0.418514</td>\n",
       "      <td>0.365306</td>\n",
       "      <td>0.351511</td>\n",
       "      <td>0.432844</td>\n",
       "      <td>0.318158</td>\n",
       "      <td>0.404087</td>\n",
       "      <td>0.356957</td>\n",
       "      <td>NaN</td>\n",
       "    </tr>\n",
       "    <tr>\n",
       "      <th>64</th>\n",
       "      <td>2021-01-01</td>\n",
       "      <td>0.080792</td>\n",
       "      <td>-0.163052</td>\n",
       "      <td>0.003507</td>\n",
       "      <td>-0.020780</td>\n",
       "      <td>0.062705</td>\n",
       "      <td>0.075702</td>\n",
       "      <td>-0.116535</td>\n",
       "      <td>-0.731518</td>\n",
       "      <td>-0.040636</td>\n",
       "      <td>...</td>\n",
       "      <td>0.341225</td>\n",
       "      <td>0.160944</td>\n",
       "      <td>0.416925</td>\n",
       "      <td>0.376120</td>\n",
       "      <td>0.361092</td>\n",
       "      <td>0.431749</td>\n",
       "      <td>0.307577</td>\n",
       "      <td>0.400125</td>\n",
       "      <td>0.328341</td>\n",
       "      <td>NaN</td>\n",
       "    </tr>\n",
       "  </tbody>\n",
       "</table>\n",
       "<p>5 rows × 245 columns</p>\n",
       "</div>"
      ],
      "text/plain": [
       "         date  Accounting & Auditing  Acting & Theater  \\\n",
       "60 2020-01-01              -0.100553         -0.026423   \n",
       "61 2020-04-01               0.036639         -0.011140   \n",
       "62 2020-07-01               0.106314         -0.156118   \n",
       "63 2020-10-01               0.049505         -0.163163   \n",
       "64 2021-01-01               0.080792         -0.163052   \n",
       "\n",
       "    Advertising & Marketing  Aerospace & Defense  Agricultural Equipment  \\\n",
       "60                 0.014028             0.001069                0.019450   \n",
       "61                -0.026215             0.204362                0.082274   \n",
       "62                -0.026860            -0.056146               -0.005356   \n",
       "63                -0.015447            -0.034418                0.021043   \n",
       "64                 0.003507            -0.020780                0.062705   \n",
       "\n",
       "    Agriculture & Forestry  Agrochemicals  Air Travel  Alcoholic Beverages  \\\n",
       "60                0.127414       0.070587   -0.152400             0.068660   \n",
       "61                0.231284       0.081251   -0.724568            -0.016592   \n",
       "62                0.038348      -0.066048   -0.569636             0.055509   \n",
       "63                0.054547      -0.133421   -0.711478            -0.051672   \n",
       "64                0.075702      -0.116535   -0.731518            -0.040636   \n",
       "\n",
       "    ...  Public debt  Recession  Recruitement  Stimulus  Student loan  \\\n",
       "60  ...     0.329334   0.282700      0.409523  0.226911      0.337439   \n",
       "61  ...     0.345087   0.339757      0.410009  0.389940      0.380514   \n",
       "62  ...     0.289461   0.197416      0.426886  0.375309      0.402451   \n",
       "63  ...     0.330244   0.168823      0.418514  0.365306      0.351511   \n",
       "64  ...     0.341225   0.160944      0.416925  0.376120      0.361092   \n",
       "\n",
       "    Temporary jobs  Unemployment  Unemployment benefits    Waiter        hp  \n",
       "60        0.437425      0.356962               0.417100  0.400755  0.040304  \n",
       "61        0.430642      0.389715               0.420427  0.384044  0.048943  \n",
       "62        0.443208      0.317629               0.409238  0.401961  0.046205  \n",
       "63        0.432844      0.318158               0.404087  0.356957       NaN  \n",
       "64        0.431749      0.307577               0.400125  0.328341       NaN  \n",
       "\n",
       "[5 rows x 245 columns]"
      ]
     },
     "execution_count": 75,
     "metadata": {},
     "output_type": "execute_result"
    }
   ],
   "source": [
    "#merge the GT variables and target variable using pd.concat([])\n",
    "\n",
    "merged_df = gt_f.merge(hp_yearly_growth, on = 'date', how = 'left')\n",
    "merged_df.tail()\n",
    "#merged_df.shape"
   ]
  },
  {
   "cell_type": "code",
   "execution_count": 90,
   "metadata": {},
   "outputs": [
    {
     "data": {
      "text/plain": [
       "0     0.134314\n",
       "1     0.139682\n",
       "2     0.134025\n",
       "3     0.127678\n",
       "4     0.118131\n",
       "        ...   \n",
       "60    0.040304\n",
       "61    0.048943\n",
       "62    0.046205\n",
       "63         NaN\n",
       "64         NaN\n",
       "Name: hp, Length: 65, dtype: float64"
      ]
     },
     "execution_count": 90,
     "metadata": {},
     "output_type": "execute_result"
    }
   ],
   "source": [
    "# Define X and y\n",
    "X = merged_df.loc[:,'Accounting & Auditing' : 'Waiter']\n",
    "y = merged_df.loc[:,'hp']\n",
    "X_df = pd.DataFrame(merged_df.loc[:,'Accounting & Auditing' : 'Waiter'])\n",
    "y_df = pd.DataFrame(merged_df.loc[:,'hp'])\n",
    "X\n",
    "y"
   ]
  },
  {
   "cell_type": "markdown",
   "metadata": {},
   "source": [
    "# 3. Modelling\n",
    "\n",
    "## Create an awesome ML model"
   ]
  },
  {
   "cell_type": "code",
   "execution_count": 91,
   "metadata": {},
   "outputs": [],
   "source": [
    "from sklearn.linear_model import LinearRegression\n",
    "model = LinearRegression()"
   ]
  },
  {
   "cell_type": "markdown",
   "metadata": {},
   "source": [
    "## Run the forecast simulations"
   ]
  },
  {
   "cell_type": "code",
   "execution_count": 92,
   "metadata": {},
   "outputs": [
    {
     "ename": "TypeError",
     "evalue": "__init__() got an unexpected keyword argument 'n_split'",
     "output_type": "error",
     "traceback": [
      "\u001b[0;31m---------------------------------------------------------------------------\u001b[0m",
      "\u001b[0;31mTypeError\u001b[0m                                 Traceback (most recent call last)",
      "\u001b[0;32m<ipython-input-92-6cebe782fb0c>\u001b[0m in \u001b[0;36m<module>\u001b[0;34m\u001b[0m\n\u001b[1;32m      5\u001b[0m                           \u001b[0mX\u001b[0m\u001b[0;34m=\u001b[0m\u001b[0mX\u001b[0m\u001b[0;34m,\u001b[0m\u001b[0;34m\u001b[0m\u001b[0;34m\u001b[0m\u001b[0m\n\u001b[1;32m      6\u001b[0m                           \u001b[0my\u001b[0m\u001b[0;34m=\u001b[0m\u001b[0my\u001b[0m\u001b[0;34m,\u001b[0m\u001b[0;34m\u001b[0m\u001b[0;34m\u001b[0m\u001b[0m\n\u001b[0;32m----> 7\u001b[0;31m                           \u001b[0mcv\u001b[0m\u001b[0;34m=\u001b[0m\u001b[0mTimeSeriesSplit\u001b[0m\u001b[0;34m(\u001b[0m\u001b[0mn_split\u001b[0m \u001b[0;34m=\u001b[0m \u001b[0;36m3\u001b[0m\u001b[0;34m)\u001b[0m\u001b[0;34m,\u001b[0m \u001b[0;31m#you may want to think carefully about what you put inside this function,\u001b[0m\u001b[0;34m\u001b[0m\u001b[0;34m\u001b[0m\u001b[0m\n\u001b[0m\u001b[1;32m      8\u001b[0m                           n_jobs = -1) #need for speed ! \n\u001b[1;32m      9\u001b[0m \u001b[0;34m\u001b[0m\u001b[0m\n",
      "\u001b[0;32m~/anaconda3/lib/python3.7/site-packages/sklearn/utils/validation.py\u001b[0m in \u001b[0;36minner_f\u001b[0;34m(*args, **kwargs)\u001b[0m\n\u001b[1;32m     61\u001b[0m             \u001b[0mextra_args\u001b[0m \u001b[0;34m=\u001b[0m \u001b[0mlen\u001b[0m\u001b[0;34m(\u001b[0m\u001b[0margs\u001b[0m\u001b[0;34m)\u001b[0m \u001b[0;34m-\u001b[0m \u001b[0mlen\u001b[0m\u001b[0;34m(\u001b[0m\u001b[0mall_args\u001b[0m\u001b[0;34m)\u001b[0m\u001b[0;34m\u001b[0m\u001b[0;34m\u001b[0m\u001b[0m\n\u001b[1;32m     62\u001b[0m             \u001b[0;32mif\u001b[0m \u001b[0mextra_args\u001b[0m \u001b[0;34m<=\u001b[0m \u001b[0;36m0\u001b[0m\u001b[0;34m:\u001b[0m\u001b[0;34m\u001b[0m\u001b[0;34m\u001b[0m\u001b[0m\n\u001b[0;32m---> 63\u001b[0;31m                 \u001b[0;32mreturn\u001b[0m \u001b[0mf\u001b[0m\u001b[0;34m(\u001b[0m\u001b[0;34m*\u001b[0m\u001b[0margs\u001b[0m\u001b[0;34m,\u001b[0m \u001b[0;34m**\u001b[0m\u001b[0mkwargs\u001b[0m\u001b[0;34m)\u001b[0m\u001b[0;34m\u001b[0m\u001b[0;34m\u001b[0m\u001b[0m\n\u001b[0m\u001b[1;32m     64\u001b[0m \u001b[0;34m\u001b[0m\u001b[0m\n\u001b[1;32m     65\u001b[0m             \u001b[0;31m# extra_args > 0\u001b[0m\u001b[0;34m\u001b[0m\u001b[0;34m\u001b[0m\u001b[0;34m\u001b[0m\u001b[0m\n",
      "\u001b[0;31mTypeError\u001b[0m: __init__() got an unexpected keyword argument 'n_split'"
     ]
    }
   ],
   "source": [
    "from sklearn.model_selection import TimeSeriesSplit\n",
    "from sklearn.model_selection import cross_val_predict\n",
    "\n",
    "preds = cross_val_predict(estimator=model, \n",
    "                          X=X,\n",
    "                          y=y,\n",
    "                          cv=TimeSeriesSplit(n_split = 3), #you may want to think carefully about what you put inside this function,\n",
    "                          n_jobs = -1) #need for speed ! \n",
    "\n",
    "preds = pd.Series(preds, index = X.index)"
   ]
  },
  {
   "cell_type": "code",
   "execution_count": null,
   "metadata": {},
   "outputs": [],
   "source": [
    "# create a data frame with the predictions and the true y\n",
    "df = "
   ]
  },
  {
   "cell_type": "code",
   "execution_count": null,
   "metadata": {},
   "outputs": [],
   "source": [
    "# Compute RMSE\n",
    "from sklearn import metrics.mean_squared_error"
   ]
  },
  {
   "cell_type": "code",
   "execution_count": null,
   "metadata": {},
   "outputs": [],
   "source": [
    "#make a chart (always!)\n",
    "fig, ax = plt.subplots(nrows=1, ncols=1, figsize=(15, 5))\n",
    "\n",
    "df['Predictions'].plot(ax=ax,  lw = 4, ms=2, \n",
    "           label = \"Predictions\")\n",
    "\n",
    "df['Y'].plot(ax=ax,   lw = 3, ms=2, \n",
    "           label = \"Y\")\n",
    "   \n",
    "ax.set_xlabel('')\n",
    "ax.yaxis.set_major_formatter(mtick.PercentFormatter(decimals = 0))\n",
    "\n",
    "ax.tick_params(axis='both', which='both', labelsize=18)\n",
    "ax.tick_params(axis='x', which='both', labelsize=18, pad = -20)\n",
    "\n",
    "ax.legend(prop=dict(size=18))\n",
    "\n",
    "plt.savefig(\"......\", bbox_inches='tight', dpi=300)\n"
   ]
  }
 ],
 "metadata": {
  "kernelspec": {
   "display_name": "Python 3",
   "language": "python",
   "name": "python3"
  },
  "language_info": {
   "codemirror_mode": {
    "name": "ipython",
    "version": 3
   },
   "file_extension": ".py",
   "mimetype": "text/x-python",
   "name": "python",
   "nbconvert_exporter": "python",
   "pygments_lexer": "ipython3",
   "version": "3.7.10"
  }
 },
 "nbformat": 4,
 "nbformat_minor": 4
}
